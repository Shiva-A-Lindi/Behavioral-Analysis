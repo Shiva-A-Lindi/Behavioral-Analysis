{
 "cells": [
  {
   "cell_type": "markdown",
   "metadata": {},
   "source": [
    "# Read .smr files into Python using NEO"
   ]
  },
  {
   "cell_type": "markdown",
   "metadata": {},
   "source": [
    "<a id='section1'></a>\n",
    "## ***(1) Load and Check Python packages***\n"
   ]
  },
  {
   "cell_type": "code",
   "execution_count": 1,
   "metadata": {},
   "outputs": [
    {
     "name": "stdout",
     "output_type": "stream",
     "text": [
      "Processing /home/shiva/Downloads/python-neo-0.10.0\n",
      "Requirement already satisfied: numpy>=1.16.1 in /home/shiva/anaconda3/lib/python3.8/site-packages (from neo==0.10.0) (1.20.1)\n",
      "Requirement already satisfied: quantities>=0.12.1 in /home/shiva/anaconda3/lib/python3.8/site-packages (from neo==0.10.0) (0.12.5)\n",
      "Building wheels for collected packages: neo\n",
      "  Building wheel for neo (setup.py) ... \u001b[?25ldone\n",
      "\u001b[?25h  Created wheel for neo: filename=neo-0.10.0-py3-none-any.whl size=548139 sha256=8af2ffc8194d831d8b931010104028e10f86bfd3678abdb8e332c77718c68031\n",
      "  Stored in directory: /home/shiva/.cache/pip/wheels/be/3b/df/da74cef4339b70ceedf7bb0e9ff1726c8c942adb6a5e90bdac\n",
      "Successfully built neo\n",
      "Installing collected packages: neo\n",
      "  Attempting uninstall: neo\n",
      "    Found existing installation: neo 0.10.0\n",
      "    Uninstalling neo-0.10.0:\n",
      "      Successfully uninstalled neo-0.10.0\n",
      "\u001b[31mERROR: pip's dependency resolver does not currently take into account all the packages that are installed. This behaviour is the source of the following dependency conflicts.\n",
      "tridesclous 1.6.3.dev0 requires numba, which is not installed.\u001b[0m\n",
      "Successfully installed neo-0.10.0\n"
     ]
    }
   ],
   "source": [
    "# import os\n",
    "# os.chdir('/home/shiva/Downloads/python-neo-0.10.0')\n",
    "\n",
    "!python -m pip install /home/shiva/Downloads/python-neo-0.10.0 ## neo version 10 is not released yet you have to download the release from github\n"
   ]
  },
  {
   "cell_type": "code",
   "execution_count": 9,
   "metadata": {},
   "outputs": [
    {
     "name": "stdout",
     "output_type": "stream",
     "text": [
      "Requirement already satisfied: sonpy in /home/shiva/anaconda3/lib/python3.8/site-packages (1.8.5)\n",
      "Requirement already satisfied: numpy in /home/shiva/anaconda3/lib/python3.8/site-packages (from sonpy) (1.20.1)\n",
      "0.10.0\n"
     ]
    }
   ],
   "source": [
    "# load Python modules\n",
    "!python -m pip install sonpy\n",
    "import pandas as pd\n",
    "import numpy as np\n",
    "import matplotlib.pyplot as plt\n",
    "import neo\n",
    "from neo.io import Spike2IO\n",
    "import sys\n",
    "\n",
    "import csv\n",
    "print(neo.__version__)\n",
    "\n",
    "# plot the output of matplotlib commands in the notebook\n",
    "%matplotlib inline"
   ]
  },
  {
   "cell_type": "code",
   "execution_count": 3,
   "metadata": {},
   "outputs": [
    {
     "name": "stdout",
     "output_type": "stream",
     "text": [
      "3.8.5 (default, Sep  4 2020, 07:30:14) \n",
      "[GCC 7.3.0]\n"
     ]
    }
   ],
   "source": [
    "# Which version of Python is installed?\n",
    "print(sys.version)"
   ]
  },
  {
   "cell_type": "markdown",
   "metadata": {},
   "source": [
    "<a id='section2'></a>\n",
    "##  (2) Read .smr file with Spike2IO\n",
    "##### [back to top](#section1)"
   ]
  },
  {
   "cell_type": "code",
   "execution_count": 16,
   "metadata": {},
   "outputs": [],
   "source": [
    "# import a Spike2 file (CED)\n",
    "filepath='/home/shiva/Desktop/SquarePulse_k03_D2only_test.smr'\n",
    "filename = os.path.basename(filepath)\n",
    "r= neo.Spike2IO(filepath)\n"
   ]
  },
  {
   "cell_type": "markdown",
   "metadata": {},
   "source": [
    "## (2) Read .smrx with CedIO (not working)"
   ]
  },
  {
   "cell_type": "code",
   "execution_count": 6,
   "metadata": {},
   "outputs": [],
   "source": [
    "filepath = '/home/shiva/Desktop/SquarePulse_k03_D2only.smrx'\n",
    "r = neo.CedIO(filename)"
   ]
  },
  {
   "cell_type": "code",
   "execution_count": 7,
   "metadata": {},
   "outputs": [
    {
     "name": "stdout",
     "output_type": "stream",
     "text": [
      " filename = SquarePulse_k03_D2only.smrx:\n",
      "\n",
      "number of segments =  1\n",
      "number of analog signals =  4\n",
      "signal 1 contains 1 series\n",
      "signal 2 contains 1 series\n",
      "signal 3 contains 1 series\n",
      "signal 4 contains 1 series\n"
     ]
    }
   ],
   "source": [
    "print(' filename = {}:\\n'.format(filepath.split('/')[-1]))\n",
    "bl = r.read()[0] # read the file \n",
    "analogsignals = bl.segments[0].analogsignals\n",
    "print('number of segments = ', len(bl.segments))\n",
    "print('number of analog signals = ', len(analogsignals))\n",
    "for i in range(len(analogsignals)):\n",
    "    print('signal {} contains {} series'.format(i+1, analogsignals[i].shape[1]))\n",
    "# print('signal type = ', type(asig))"
   ]
  },
  {
   "cell_type": "markdown",
   "metadata": {},
   "source": [
    "The last 3 channels are stacked toghether. The laser epochs are the second column of the second signal."
   ]
  },
  {
   "cell_type": "code",
   "execution_count": 10,
   "metadata": {},
   "outputs": [
    {
     "name": "stdout",
     "output_type": "stream",
     "text": [
      "113845 data points\n",
      "113.845 sec\n",
      "\n"
     ]
    }
   ],
   "source": [
    "# keep the signal as a 16 bit float\n",
    "asig = np.float16(analogsignals[1][:,1])\n",
    "fs = 1000 # sampling rate\n",
    "laser_threshold = 4 # \n",
    "pts = int(np.prod(asig.shape)) # number of datapoints\n",
    "secs = pts/fs # recording length in seconds\n",
    "time = np.linspace(0, secs, pts)\n",
    "print('{} data points\\n{} sec\\n'.format(\n",
    "        pts, secs))"
   ]
  },
  {
   "cell_type": "code",
   "execution_count": 11,
   "metadata": {},
   "outputs": [
    {
     "data": {
      "image/png": "[encoded data removed]",
      "text/plain": [
       "<Figure size 720x288 with 1 Axes>"
      ]
     },
     "metadata": {
      "needs_background": "light"
     },
     "output_type": "display_data"
    }
   ],
   "source": [
    "fig, ax = plt.subplots(1, 1, figsize=(10, 4))\n",
    "miny = np.min(asig) ; maxy = np.max(asig)* 1.5\n",
    "ax.plot(time , asig, 'b') \n",
    "ax.set_xlabel('time (s)', fontsize=12)\n",
    "ax.set_ylabel('microvolts', fontsize=12)\n",
    "ax.set_xlim(0, secs)\n",
    "ax.set_ylim(miny, maxy)\n",
    "plt.tight_layout()"
   ]
  },
  {
   "cell_type": "code",
   "execution_count": 12,
   "metadata": {},
   "outputs": [
    {
     "name": "stdout",
     "output_type": "stream",
     "text": [
      "laser starts = \n",
      "\n",
      " [  3.94303464   7.91506952  12.37110867  17.47915353  23.18620366\n",
      "  28.24224808  32.48728536  37.1363262   41.64636582  46.28840659\n",
      "  51.07544864  56.17349342  62.20554641  66.51558426  71.06562423\n",
      "  75.03765912  80.30970543  85.72675301  90.53279523  95.22483644\n",
      " 101.26788952 108.29295123] \n",
      "\n",
      " laser ends = \n",
      "\n",
      " [  4.94204341   8.9140783   13.37011744  18.47816231  24.18521244\n",
      "  29.24125685  33.48629414  38.13533498  42.64537459  47.28741537\n",
      "  52.07445742  57.1725022   63.20455518  67.51459304  72.06463301\n",
      "  76.0366679   81.30871421  86.72576179  91.531804    96.22384522\n",
      " 102.2668983  109.29196001]\n"
     ]
    }
   ],
   "source": [
    "peaks = (asig > laser_threshold).reshape(1,-1)[0]\n",
    "peaks = peaks * 1\n",
    "shifted_right = np.roll(peaks, 1)\n",
    "shifted_left = np.roll(peaks, -1)\n",
    "\n",
    "laser_start = np.where(peaks - shifted_right > 0)[0]\n",
    "laser_end = np.where(peaks - shifted_left > 0)[0]\n",
    "print('laser starts = \\n\\n', time[laser_start],\n",
    "      '\\n\\n laser ends = \\n\\n', time[laser_end])"
   ]
  },
  {
   "cell_type": "code",
   "execution_count": 13,
   "metadata": {},
   "outputs": [
    {
     "data": {
      "image/png": "[encoded data removed]",
      "text/plain": [
       "<Figure size 1080x576 with 1 Axes>"
      ]
     },
     "metadata": {
      "needs_background": "light"
     },
     "output_type": "display_data"
    }
   ],
   "source": [
    "fig, ax = plt.subplots(1, 1, figsize=(15, 8))\n",
    "miny = np.min(asig) ; maxy = np.max(asig)* 1.5\n",
    "ax.plot(time , asig, 'b') \n",
    "ax.set_xlabel('time (s)', fontsize=12)\n",
    "ax.set_ylabel('microvolts', fontsize=12)\n",
    "ax.set_xlim(0, secs)\n",
    "ax.set_ylim(miny, maxy)\n",
    "plt.tight_layout()\n",
    "\n",
    "for (start, end) in zip(laser_start,laser_end):\n",
    "    plt.axvspan(time[start], time[end],  facecolor='y', alpha=0.2)"
   ]
  },
  {
   "cell_type": "markdown",
   "metadata": {},
   "source": [
    "# (3) Save laser stampts skipping rows as before"
   ]
  },
  {
   "cell_type": "code",
   "execution_count": 33,
   "metadata": {},
   "outputs": [],
   "source": [
    "\n",
    "metadatas=[[filepath],\n",
    "            [\"framerate : \"],\n",
    "            [\"csv_aligned :\", 'NO'],\n",
    "           [\"first_laser_time : \", 'None']\n",
    "           ]\n",
    "df = pd.DataFrame(np.concatenate((laser_start.reshape(-1,1), laser_end.reshape(-1,1)),\n",
    "                                  axis = 1) , \n",
    "                  columns = ['ON', 'OFF'])\n",
    "resultFilePath = filepath.replace(os.path.splitext(filename)[1], '.csv')\n",
    "with open(resultFilePath, 'w') as resultfile:\n",
    "             \n",
    "    csvResult=csv.writer(resultfile,delimiter=',', lineterminator='\\n')\n",
    "    csvResult.writerows(metadatas)\n",
    "\n",
    "df.to_csv(resultFilePath, mode = 'a',\n",
    "          index = False)"
   ]
  },
  {
   "cell_type": "code",
   "execution_count": null,
   "metadata": {},
   "outputs": [],
   "source": []
  }
 ],
 "metadata": {
  "kernelspec": {
   "display_name": "Python 2",
   "language": "python",
   "name": "python2"
  },
  "language_info": {
   "codemirror_mode": {
    "name": "ipython",
    "version": 3
   },
   "file_extension": ".py",
   "mimetype": "text/x-python",
   "name": "python",
   "nbconvert_exporter": "python",
   "pygments_lexer": "ipython3",
   "version": "3.8.5"
  }
 },
 "nbformat": 4,
 "nbformat_minor": 1
}
