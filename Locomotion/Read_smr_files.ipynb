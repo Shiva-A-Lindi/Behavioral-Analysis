{
 "cells": [
  {
   "cell_type": "markdown",
   "metadata": {},
   "source": [
    "# Read .smr files into Python using NEO"
   ]
  },
  {
   "cell_type": "markdown",
   "metadata": {},
   "source": [
    "<a id='section1'></a>\n",
    "## ***(1) Load and Check Python packages***\n"
   ]
  },
  {
   "cell_type": "code",
   "execution_count": 1,
   "metadata": {},
   "outputs": [
    {
     "name": "stdout",
     "output_type": "stream",
     "text": [
      "Neo version =  0.10.0\n",
      "Python version =  3.8.5 (default, Sep  4 2020, 07:30:14) \n",
      "[GCC 7.3.0]\n"
     ]
    }
   ],
   "source": [
    "# load Python modules\n",
    "# !python -m pip install sonpy\n",
    "# !python -m pip install /home/shiva/Downloads/python-neo-0.10.0 ## neo version 10 is not released yet you have to download the release from github\n",
    "\n",
    "import pandas as pd\n",
    "import numpy as np\n",
    "import matplotlib.pyplot as plt\n",
    "from scipy.signal import find_peaks\n",
    "import neo\n",
    "import sys\n",
    "import csv\n",
    "import os\n",
    "print(\"Neo version = \", neo.__version__)\n",
    "print(\"Python version = \", sys.version)\n",
    "\n",
    "# plot the output of matplotlib commands in the notebook\n",
    "%matplotlib inline"
   ]
  },
  {
   "cell_type": "markdown",
   "metadata": {},
   "source": [
    "<a id='section2'></a>\n",
    "##  (2) Read .smr/.smrx file with Neo\n",
    "##### [back to top](#section1)"
   ]
  },
  {
   "cell_type": "markdown",
   "metadata": {},
   "source": [
    "### input filepath:"
   ]
  },
  {
   "cell_type": "code",
   "execution_count": 6,
   "metadata": {},
   "outputs": [],
   "source": [
    "filepath='/home/shiva/Desktop/SquarePulse_k03_D2only_test.smr'\n",
    "filepath=\"/home/shiva/Desktop/SquarePulse_k03_D2only.smrx\"\n",
    "filepath = '/home/shiva/Desktop/Beta STR_s01.smrx'"
   ]
  },
  {
   "cell_type": "code",
   "execution_count": 7,
   "metadata": {},
   "outputs": [
    {
     "name": "stdout",
     "output_type": "stream",
     "text": [
      "number of segments =  1\n",
      "number of analog signals =  4\n",
      "signal 1 contains (129501, 1) series\n",
      "signal 2 contains (129501, 1) series\n",
      "signal 3 contains (129501, 1) series\n",
      "signal 4 contains (12950, 1) series\n"
     ]
    }
   ],
   "source": [
    "\n",
    "def read_laser_file(filepath):\n",
    "    filename = os.path.basename(filepath)\n",
    "    file_extension = filename.split('.') [-1]\n",
    "    \n",
    "    ## Depending on the file extension, the laser information is stored differently\n",
    "    if file_extension == 'smrx':\n",
    "        neo_obj = neo.CedIO(filepath)\n",
    "        analogsignals = read_neo_file_return_analogsignals(neo_obj)\n",
    "        \n",
    "        # keep the signal as a 16 bit float\n",
    "        laser_series = np.float16(analogsignals[1]) # the laser information is stored as the second analog signal\n",
    "    else:\n",
    "        neo_obj = neo.Spike2IO(filepath)\n",
    "        analogsignals = read_neo_file_return_analogsignals(neo_obj)\n",
    "        \n",
    "        # keep the signal as a 16 bit float\n",
    "        laser_series = np.float16(analogsignals[1][:,1]) # the laser information is stored as the second column in the \n",
    "                                             # the second analog signal\n",
    "        \n",
    "    return laser_series\n",
    "\n",
    "def read_neo_file_return_analogsignals(neo_obj):\n",
    "    \n",
    "    block = neo_obj.read()[0] # read the file \n",
    "    analogsignals = block.segments[0].analogsignals\n",
    "    report_info_on_file(block, analogsignals)\n",
    "    \n",
    "    return analogsignals\n",
    "\n",
    "def report_info_on_file(block, analogsignals):\n",
    "    \n",
    "    print('number of segments = ', len(block.segments))\n",
    "    print('number of analog signals = ', len(analogsignals))\n",
    "    for i in range(len(analogsignals)):\n",
    "        print('signal {} contains {} series'.format(i+1, analogsignals[i].shape))\n",
    "        \n",
    "laser_series = read_laser_file(filepath)"
   ]
  },
  {
   "cell_type": "markdown",
   "metadata": {},
   "source": [
    "Properties of the laser series are:"
   ]
  },
  {
   "cell_type": "code",
   "execution_count": 10,
   "metadata": {},
   "outputs": [
    {
     "name": "stdout",
     "output_type": "stream",
     "text": [
      "129501 data points\n",
      "129.501 sec\n",
      "\n"
     ]
    }
   ],
   "source": [
    "fs = 1000 # sampling rate\n",
    "laser_threshold = 4 # \n",
    "pts = int(np.prod(laser_series.shape)) # number of datapoints\n",
    "secs = pts/fs # recording length in seconds\n",
    "time = np.linspace(0, secs, pts)\n",
    "print('{} data points\\n{} sec\\n'.format(\n",
    "        pts, secs))"
   ]
  },
  {
   "cell_type": "markdown",
   "metadata": {},
   "source": [
    "## (3) Find laser epochs "
   ]
  },
  {
   "cell_type": "markdown",
   "metadata": {},
   "source": [
    "### (3.0) Determine the type of stim"
   ]
  },
  {
   "cell_type": "code",
   "execution_count": 5,
   "metadata": {},
   "outputs": [
    {
     "name": "stdout",
     "output_type": "stream",
     "text": [
      "frequency of detected peaks = 0.21959682023804294\n",
      " freq > 0.5 Hz constitues a BetaPulse. \n",
      " Therefore, this signal is a SquarePulse\n"
     ]
    },
    {
     "data": {
      "text/plain": [
       "'SquarePulse'"
      ]
     },
     "execution_count": 5,
     "metadata": {},
     "output_type": "execute_result"
    }
   ],
   "source": [
    "def determine_stim_type(laser_series, freq_thresh = 0.5, peak_height_thresh = 1, fs = 1000 ):\n",
    "    \n",
    "    fs = 1000 # sampling rate\n",
    "    pts = int(np.prod(laser_series.shape)) # number of datapoints\n",
    "    secs = pts/fs # recording length in seconds\n",
    "    laser_series = laser_series.reshape(-1,)\n",
    "    peaks,_ = find_peaks(laser_series, height = peak_height_thresh)\n",
    "    frequency_of_peaks = len(peaks)/ secs\n",
    "    print(\"frequency of detected peaks = {}\".format(frequency_of_peaks))\n",
    "    if frequency_of_peaks > freq_thresh : \n",
    "        stim_type = \"BetaPulse\"\n",
    "    else: \n",
    "        stim_type = \"SquarePulse\"\n",
    "    print(\" freq > {} Hz constitues a BetaPulse. \\n Therefore, this signal is a {}\".format(freq_thresh, stim_type))\n",
    "    return stim_type\n",
    "\n",
    "determine_stim_type(laser_series, freq_thresh = 0.5, peak_height_thresh = 1, fs = 1000 )"
   ]
  },
  {
   "cell_type": "markdown",
   "metadata": {},
   "source": [
    "### (3.1) SquarePulse stimulation"
   ]
  },
  {
   "cell_type": "code",
   "execution_count": 6,
   "metadata": {
    "scrolled": true
   },
   "outputs": [
    {
     "name": "stdout",
     "output_type": "stream",
     "text": [
      "number of SquarePulse stimulations = 22\n"
     ]
    }
   ],
   "source": [
    "def laser_start_and_end_SquarePulse(laser_series, laser_threshold = 4):\n",
    "    peaks = (laser_series > laser_threshold).reshape(1,-1)[0]\n",
    "    peaks = peaks * 1\n",
    "    shifted_right = np.roll(peaks, 1)\n",
    "    shifted_left = np.roll(peaks, -1)\n",
    "\n",
    "    laser_start = np.where(peaks - shifted_right > 0)[0]\n",
    "    laser_end = np.where(peaks - shifted_left > 0)[0]\n",
    "    \n",
    "    print(\"number of SquarePulse stimulations = {}\".format(len(laser_start)))\n",
    "    \n",
    "    return laser_start, laser_end\n",
    "laser_start, laser_end = laser_start_and_end_SquarePulse(laser_series, laser_threshold = 4)\n",
    "# print('laser starts = \\n\\n', time[laser_start],\n",
    "#       '\\n\\n laser ends = \\n\\n', time[laser_end])"
   ]
  },
  {
   "cell_type": "markdown",
   "metadata": {},
   "source": [
    "### (3.2) BetaPulse stimulation"
   ]
  },
  {
   "cell_type": "code",
   "execution_count": 23,
   "metadata": {},
   "outputs": [
    {
     "name": "stdout",
     "output_type": "stream",
     "text": [
      "number of SquarePulse stimulations = 25\n"
     ]
    }
   ],
   "source": [
    "def laser_start_and_end_BetaPulse(laser_series, \n",
    "                                  peak_height_thresh = 1, \n",
    "                                  min_dist_bet_laser_coef = 1.5):\n",
    "    laser_series = np.array(laser_series)\n",
    "    laser_series = laser_series.reshape(-1,)\n",
    "    peaks,_ = find_peaks(laser_series, height = peak_height_thresh)\n",
    "    peaks = np.array(peaks)\n",
    "    dist_bet_peaks = np.diff(peaks)\n",
    "    \n",
    "    most_freq = np.argmax(np.bincount(dist_bet_peaks))\n",
    "    \n",
    "    laser_end = peaks[np.where(dist_bet_peaks > min_dist_bet_laser_coef * most_freq)]\n",
    "    laser_start = peaks[np.where(dist_bet_peaks > 1.5 * most_freq)[0]+1]\n",
    "    laser_start = np.insert(laser_start, 0, peaks[0] )\n",
    "    laser_end = np.append(laser_end, peaks[-1])\n",
    "    laser_end = np.array(laser_end).reshape(-1,)\n",
    "    \n",
    "    ## shift back the starts a quarter of a mini pulse\n",
    "    quarter_wavelength = int((np.min(dist_bet_peaks)) / 4)\n",
    "    laser_start = laser_start - quarter_wavelength\n",
    "    \n",
    "    ## shift forward the starts a quarter of a mini pulse\n",
    "    half_wavelength = int((np.min(dist_bet_peaks)) / 2)\n",
    "    laser_end = laser_end + quarter_wavelength\n",
    "    \n",
    "    print(\"number of SquarePulse stimulations = {}\".format(len(laser_start)))\n",
    "    \n",
    "    return laser_start, laser_end\n",
    "\n",
    "laser_start, laser_end = laser_start_and_end_BetaPulse(laser_series)\n"
   ]
  },
  {
   "cell_type": "markdown",
   "metadata": {},
   "source": [
    "## (4) Plot :"
   ]
  },
  {
   "cell_type": "markdown",
   "metadata": {},
   "source": [
    "### (4.1) first stimulation"
   ]
  },
  {
   "cell_type": "code",
   "execution_count": 24,
   "metadata": {},
   "outputs": [
    {
     "data": {
      "image/png": "[encoded data removed]",
      "text/plain": [
       "<Figure size 720x288 with 1 Axes>"
      ]
     },
     "metadata": {
      "needs_background": "light"
     },
     "output_type": "display_data"
    }
   ],
   "source": [
    "fig, ax = plt.subplots(1, 1, figsize=(10, 4))\n",
    "miny = np.min(laser_series) ; maxy = np.max(laser_series)* 1.5\n",
    "ax.plot(time , laser_series, 'b') \n",
    "ax.set_xlabel('time (s)', fontsize=12)\n",
    "ax.set_ylabel('microvolts', fontsize=12)\n",
    "\n",
    "first_laser_duration = time[laser_end[0]] - time[laser_start[0]]\n",
    "ax.set_xlim(0, time[laser_end[0]] + first_laser_duration)\n",
    "ax.set_ylim(miny, maxy)\n",
    "ax.axvspan(time[laser_start[0]], time[laser_end[0]],  facecolor='y', alpha=0.2)\n",
    "first_laser_duration = time[laser_end[0]] - time[laser_start[0]]\n",
    "ax.set_xlim(time[laser_start[0]] - first_laser_duration, time[laser_end[0]] + first_laser_duration)\n",
    "plt.tight_layout()"
   ]
  },
  {
   "cell_type": "markdown",
   "metadata": {},
   "source": [
    "### (4.2) All stimulations"
   ]
  },
  {
   "cell_type": "code",
   "execution_count": 27,
   "metadata": {},
   "outputs": [
    {
     "data": {
      "image/png": "[encoded data removed]",
      "text/plain": [
       "<Figure size 1080x576 with 1 Axes>"
      ]
     },
     "metadata": {
      "needs_background": "light"
     },
     "output_type": "display_data"
    }
   ],
   "source": [
    "fig, ax = plt.subplots(1, 1, figsize=(15, 8))\n",
    "miny = np.min(laser_series) ; maxy = np.max(laser_series)* 1.5\n",
    "ax.plot(time , laser_series, 'b') \n",
    "ax.set_xlabel('time (s)', fontsize=12)\n",
    "ax.set_ylabel('microvolts', fontsize=12)\n",
    "ax.set_xlim(0, secs)\n",
    "ax.set_ylim(miny, maxy)\n",
    "plt.tight_layout()\n",
    "\n",
    "for (start, end) in zip(laser_start,laser_end):\n",
    "    plt.axvspan(time[start], time[end],  facecolor='y', alpha=0.2)"
   ]
  },
  {
   "cell_type": "markdown",
   "metadata": {},
   "source": [
    "## (5) Save laser stamps "
   ]
  },
  {
   "cell_type": "code",
   "execution_count": 36,
   "metadata": {},
   "outputs": [],
   "source": [
    "def save_laser_stamps_to_csv(filepath, laser_start, laser_end):\n",
    "    \n",
    "    metadatas=[[filepath],\n",
    "                [\"framerate : \"],\n",
    "                [\"csv_aligned :\", 'NO'],\n",
    "               [\"first_laser_time : \", 'None']\n",
    "               ]\n",
    "    df = pd.DataFrame(np.concatenate((laser_start.reshape(-1,1), laser_end.reshape(-1,1)),\n",
    "                                      axis = 1) , \n",
    "                      columns = ['ON', 'OFF'])\n",
    "    resultFilePath = filepath.replace(os.path.splitext(filename)[1], '.csv')\n",
    "    with open(resultFilePath, 'w') as resultfile:\n",
    "\n",
    "        csvResult=csv.writer(resultfile,delimiter=',', lineterminator='\\n')\n",
    "        csvResult.writerows(metadatas)\n",
    "\n",
    "    df.to_csv(resultFilePath, mode = 'a', index = False)\n",
    "save_laser_stamps_to_csv(filepath, laser_start, laser_end)"
   ]
  },
  {
   "cell_type": "code",
   "execution_count": null,
   "metadata": {},
   "outputs": [],
   "source": []
  }
 ],
 "metadata": {
  "kernelspec": {
   "display_name": "Python 2",
   "language": "python",
   "name": "python2"
  },
  "language_info": {
   "codemirror_mode": {
    "name": "ipython",
    "version": 3
   },
   "file_extension": ".py",
   "mimetype": "text/x-python",
   "name": "python",
   "nbconvert_exporter": "python",
   "pygments_lexer": "ipython3",
   "version": "3.8.13"
  }
 },
 "nbformat": 4,
 "nbformat_minor": 1
}
