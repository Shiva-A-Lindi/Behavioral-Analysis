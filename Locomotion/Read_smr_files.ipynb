{
 "cells": [
  {
   "cell_type": "markdown",
   "metadata": {},
   "source": [
    "# Read .smr files into Python using NEO"
   ]
  },
  {
   "cell_type": "markdown",
   "metadata": {},
   "source": [
    "<a id='section1'></a>\n",
    "## ***(1) Load and Check Python packages***\n"
   ]
  },
  {
   "cell_type": "code",
   "execution_count": 1,
   "metadata": {},
   "outputs": [
    {
     "name": "stdout",
     "output_type": "stream",
     "text": [
      "Requirement already satisfied: sonpy in /home/shiva/anaconda3/envs/DLC/lib/python3.8/site-packages (1.8.5)\n",
      "Requirement already satisfied: numpy in /home/shiva/anaconda3/envs/DLC/lib/python3.8/site-packages (from sonpy) (1.19.5)\n",
      "Processing /home/shiva/Downloads/python-neo-0.10.0\n",
      "Requirement already satisfied: numpy>=1.16.1 in /home/shiva/anaconda3/envs/DLC/lib/python3.8/site-packages (from neo==0.10.0) (1.19.5)\n",
      "Requirement already satisfied: quantities>=0.12.1 in /home/shiva/anaconda3/envs/DLC/lib/python3.8/site-packages (from neo==0.10.0) (0.12.5)\n",
      "Building wheels for collected packages: neo\n",
      "  Building wheel for neo (setup.py) ... \u001b[?25ldone\n",
      "\u001b[?25h  Created wheel for neo: filename=neo-0.10.0-py3-none-any.whl size=548139 sha256=0e480a640590d8d57a51fa0aee44ebd093c568612547dc12a06f49432cf0a2c1\n",
      "  Stored in directory: /home/shiva/.cache/pip/wheels/be/3b/df/da74cef4339b70ceedf7bb0e9ff1726c8c942adb6a5e90bdac\n",
      "Successfully built neo\n",
      "Installing collected packages: neo\n",
      "  Attempting uninstall: neo\n",
      "    Found existing installation: neo 0.10.0\n",
      "    Uninstalling neo-0.10.0:\n",
      "      Successfully uninstalled neo-0.10.0\n",
      "Successfully installed neo-0.10.0\n",
      "Neo version =  0.10.0\n",
      "Python version =  3.8.11 (default, Aug  3 2021, 15:09:35) \n",
      "[GCC 7.5.0]\n"
     ]
    }
   ],
   "source": [
    "# load Python modules\n",
    "!python -m pip install sonpy\n",
    "!python -m pip install /home/shiva/Downloads/python-neo-0.10.0 ## neo version 10 is not released yet you have to download the release from github\n",
    "\n",
    "import pandas as pd\n",
    "import numpy as np\n",
    "import matplotlib.pyplot as plt\n",
    "import neo\n",
    "import sys\n",
    "import csv\n",
    "import os\n",
    "print(\"Neo version = \", neo.__version__)\n",
    "print(\"Python version = \", sys.version)\n",
    "\n",
    "# plot the output of matplotlib commands in the notebook\n",
    "%matplotlib inline"
   ]
  },
  {
   "cell_type": "markdown",
   "metadata": {},
   "source": [
    "<a id='section2'></a>\n",
    "##  (2) Read .smr/.smrx file with Neo\n",
    "##### [back to top](#section1)"
   ]
  },
  {
   "cell_type": "markdown",
   "metadata": {},
   "source": [
    "### input filepath:"
   ]
  },
  {
   "cell_type": "code",
   "execution_count": 28,
   "metadata": {},
   "outputs": [],
   "source": [
    "filepath='/home/shiva/Desktop/SquarePulse_k03_D2only_test.smr'\n",
    "filepath = '/home/shiva/Downloads/Beta STR_s01.smrx'"
   ]
  },
  {
   "cell_type": "code",
   "execution_count": 29,
   "metadata": {},
   "outputs": [
    {
     "name": "stdout",
     "output_type": "stream",
     "text": [
      "number of segments =  1\n",
      "number of analog signals =  4\n",
      "signal 1 contains (129501, 1) series\n",
      "signal 2 contains (129501, 1) series\n",
      "signal 3 contains (129501, 1) series\n",
      "signal 4 contains (12950, 1) series\n"
     ]
    }
   ],
   "source": [
    "\n",
    "def read_laser_file(filepath):\n",
    "    filename = os.path.basename(filepath)\n",
    "    file_extension = filename.split('.') [-1]\n",
    "    \n",
    "    ## Depending on the file extension, the laser information is stored differently\n",
    "    if file_extension == 'smrx':\n",
    "        neo_obj = neo.CedIO(filepath)\n",
    "        analogsignals = read_neo_file_return_analogsignals(neo_obj)\n",
    "        \n",
    "        # keep the signal as a 16 bit float\n",
    "        laser_series = np.float16(analogsignals[1]) # the laser information is stored as the second analog signal\n",
    "    else:\n",
    "        neo_obj = neo.Spike2IO(filepath)\n",
    "        analogsignals = read_neo_file_return_analogsignals(neo_obj)\n",
    "        \n",
    "        # keep the signal as a 16 bit float\n",
    "        laser_series = np.float16(analogsignals[1][:,1]) # the laser information is stored as the second column in the \n",
    "                                             # the second analog signal\n",
    "        \n",
    "    return laser_series    \n",
    "def read_neo_file_return_analogsignals(neo_obj):\n",
    "    \n",
    "    block = neo_obj.read()[0] # read the file \n",
    "    analogsignals = block.segments[0].analogsignals\n",
    "    report_info_on_file(block, analogsignals)\n",
    "    \n",
    "    return analogsignals\n",
    "\n",
    "def report_info_on_file(block, analogsignals):\n",
    "    \n",
    "    print('number of segments = ', len(block.segments))\n",
    "    print('number of analog signals = ', len(analogsignals))\n",
    "    for i in range(len(analogsignals)):\n",
    "        print('signal {} contains {} series'.format(i+1, analogsignals[i].shape))\n",
    "        \n",
    "laser_series = read_laser_file(filepath)"
   ]
  },
  {
   "cell_type": "code",
   "execution_count": 30,
   "metadata": {},
   "outputs": [
    {
     "name": "stdout",
     "output_type": "stream",
     "text": [
      "129501 data points\n",
      "129.501 sec\n",
      "\n"
     ]
    }
   ],
   "source": [
    "\n",
    "fs = 1000 # sampling rate\n",
    "laser_threshold = 4 # \n",
    "pts = int(np.prod(laser_series.shape)) # number of datapoints\n",
    "secs = pts/fs # recording length in seconds\n",
    "time = np.linspace(0, secs, pts)\n",
    "print('{} data points\\n{} sec\\n'.format(\n",
    "        pts, secs))"
   ]
  },
  {
   "cell_type": "code",
   "execution_count": 31,
   "metadata": {},
   "outputs": [
    {
     "data": {
      "image/png": "[encoded data removed]",
      "text/plain": [
       "<Figure size 720x288 with 1 Axes>"
      ]
     },
     "metadata": {
      "needs_background": "light"
     },
     "output_type": "display_data"
    }
   ],
   "source": [
    "fig, ax = plt.subplots(1, 1, figsize=(10, 4))\n",
    "miny = np.min(laser_series) ; maxy = np.max(laser_series)* 1.5\n",
    "ax.plot(time , laser_series, 'b') \n",
    "ax.set_xlabel('time (s)', fontsize=12)\n",
    "ax.set_ylabel('microvolts', fontsize=12)\n",
    "ax.set_xlim(0, secs)\n",
    "ax.set_ylim(miny, maxy)\n",
    "plt.tight_layout()"
   ]
  },
  {
   "cell_type": "code",
   "execution_count": 35,
   "metadata": {},
   "outputs": [
    {
     "name": "stdout",
     "output_type": "stream",
     "text": [
      "laser starts = \n",
      "\n",
      " [  1.59501232   1.6450127    1.69501309   1.74501347   1.79501386\n",
      "   1.84501425   1.89501463   1.94501502   1.99501541   2.04501579\n",
      "   5.97904617   6.02904656   6.07904694   6.12904733   6.17904771\n",
      "   6.2290481    6.27904849   6.32904887   6.37904926   6.42904964\n",
      "  10.89308412  10.9430845   10.99308489  11.04308527  11.09308566\n",
      "  11.14308605  11.19308643  11.24308682  11.2930872   11.34308759\n",
      "  15.670121    15.72012139  15.77012178  15.82012216  15.87012255\n",
      "  15.92012293  15.97012332  16.02012371  16.07012409  16.12012448\n",
      "  20.21915613  20.26915652  20.3191569   20.36915729  20.41915768\n",
      "  20.46915806  20.51915845  20.56915883  20.61915922  20.66915961\n",
      "  24.59018988  24.64019027  24.69019066  24.74019104  24.79019143\n",
      "  24.84019181  24.8901922   24.94019259  24.99019297  25.04019336\n",
      "  29.17722531  29.22722569  29.27722608  29.32722646  29.37722685\n",
      "  29.42722724  29.47722762  29.52722801  29.57722839  29.62722878\n",
      "  33.75926069  33.80926107  33.85926146  33.90926185  33.95926223\n",
      "  34.00926262  34.059263    34.10926339  34.15926378  34.20926416\n",
      "  38.55329771  38.60329809  38.65329848  38.70329886  38.75329925\n",
      "  38.80329964  38.85330002  38.90330041  38.9533008   39.00330118\n",
      "  43.53533618  43.58533656  43.63533695  43.68533734  43.73533772\n",
      "  43.78533811  43.83533849  43.88533888  43.93533927  43.98533965\n",
      "  48.0313709   48.08137128  48.13137167  48.18137205  48.23137244\n",
      "  48.28137283  48.33137321  48.3813736   48.43137398  48.48137437\n",
      "  52.76640746  52.81640785  52.86640823  52.91640862  52.966409\n",
      "  53.01640939  53.06640978  53.11641016  53.16641055  53.21641093\n",
      "  57.4594437   57.50944408  57.55944447  57.60944486  57.65944524\n",
      "  57.70944563  57.75944602  57.8094464   57.85944679  57.90944717\n",
      "  61.66747619  61.71747658  61.76747697  61.81747735  61.86747774\n",
      "  61.91747812  61.96747851  62.0174789   62.06747928  62.11747967\n",
      "  66.11351053  66.16351091  66.2135113   66.26351168  66.31351207\n",
      "  66.36351246  66.41351284  66.46351323  66.51351361  66.563514\n",
      "  71.87055498  71.92055537  71.97055575  72.02055614  72.07055653\n",
      "  72.12055691  72.1705573   72.22055768  72.27055807  72.32055846\n",
      "  78.22260403  78.27260442  78.3226048   78.37260519  78.42260558\n",
      "  78.47260596  78.52260635  78.57260673  78.62260712  78.67260751\n",
      "  83.41664414  83.46664453  83.51664491  83.5666453   83.61664568\n",
      "  83.66664607  83.71664646  83.76664684  83.81664723  83.86664761\n",
      "  87.7496776   87.79967798  87.84967837  87.89967876  87.94967914\n",
      "  87.99967953  88.04967992  88.0996803   88.14968069  88.19968107\n",
      "  94.14372697  94.19372736  94.24372775  94.29372813  94.34372852\n",
      "  94.3937289   94.44372929  94.49372968  94.54373006  94.59373045\n",
      "  99.72177005  99.77177043  99.82177082  99.8717712   99.92177159\n",
      "  99.97177198 100.02177236 100.07177275 100.12177314 100.17177352\n",
      " 104.49080687 104.54080726 104.59080764 104.64080803 104.69080842\n",
      " 104.7408088  104.79080919 104.84080958 104.89080996 104.94081035\n",
      " 109.81384798 109.86384836 109.91384875 109.96384914 110.01384952\n",
      " 110.06384991 110.11385029 110.16385068 110.21385107 110.26385145\n",
      " 114.74088602 114.79088641 114.8408868  114.89088718 114.94088757\n",
      " 114.99088795 115.04088834 115.09088873 115.14088911 115.1908895\n",
      " 119.6979243  119.74792469 119.79792507 119.84792546 119.89792585\n",
      " 119.94792623 119.99792662 120.047927   120.09792739 120.14792778] \n",
      "\n",
      " laser ends = \n",
      "\n",
      " [  1.60401239   1.65401277   1.70401316   1.75401354   1.80401393\n",
      "   1.85401432   1.9040147    1.95401509   2.00401547   2.05401586\n",
      "   5.98804624   6.03804663   6.08804701   6.1380474    6.18804778\n",
      "   6.23804817   6.28804856   6.33804894   6.38804933   6.43804971\n",
      "  10.90208419  10.95208457  11.00208496  11.05208534  11.10208573\n",
      "  11.15208612  11.2020865   11.25208689  11.30208727  11.35208766\n",
      "  15.67912107  15.72912146  15.77912185  15.82912223  15.87912262\n",
      "  15.929123    15.97912339  16.02912378  16.07912416  16.12912455\n",
      "  20.2281562   20.27815659  20.32815697  20.37815736  20.42815775\n",
      "  20.47815813  20.52815852  20.5781589   20.62815929  20.67815968\n",
      "  24.59918995  24.64919034  24.69919073  24.74919111  24.7991915\n",
      "  24.84919188  24.89919227  24.94919266  24.99919304  25.04919343\n",
      "  29.18622537  29.23622576  29.28622615  29.33622653  29.38622692\n",
      "  29.43622731  29.48622769  29.53622808  29.58622846  29.63622885\n",
      "  33.76826076  33.81826114  33.86826153  33.91826192  33.9682623\n",
      "  34.01826269  34.06826307  34.11826346  34.16826385  34.21826423\n",
      "  38.56229778  38.61229816  38.66229855  38.71229893  38.76229932\n",
      "  38.81229971  38.86230009  38.91230048  38.96230086  39.01230125\n",
      "  43.54433625  43.59433663  43.64433702  43.69433741  43.74433779\n",
      "  43.79433818  43.84433856  43.89433895  43.94433934  43.99433972\n",
      "  48.04037097  48.09037135  48.14037174  48.19037212  48.24037251\n",
      "  48.2903729   48.34037328  48.39037367  48.44037405  48.49037444\n",
      "  52.77540753  52.82540792  52.8754083   52.92540869  52.97540907\n",
      "  53.02540946  53.07540985  53.12541023  53.17541062  53.225411\n",
      "  57.46844377  57.51844415  57.56844454  57.61844493  57.66844531\n",
      "  57.7184457   57.76844608  57.81844647  57.86844686  57.91844724\n",
      "  61.67647626  61.72647665  61.77647703  61.82647742  61.87647781\n",
      "  61.92647819  61.97647858  62.02647897  62.07647935  62.12647974\n",
      "  66.12251059  66.17251098  66.22251137  66.27251175  66.32251214\n",
      "  66.37251253  66.42251291  66.4725133   66.52251368  66.57251407\n",
      "  71.87955505  71.92955544  71.97955582  72.02955621  72.07955659\n",
      "  72.12955698  72.17955737  72.22955775  72.27955814  72.32955853\n",
      "  78.2316041   78.28160449  78.33160487  78.38160526  78.43160564\n",
      "  78.48160603  78.53160642  78.5816068   78.63160719  78.68160758\n",
      "  83.42564421  83.47564459  83.52564498  83.57564537  83.62564575\n",
      "  83.67564614  83.72564653  83.77564691  83.8256473   83.87564768\n",
      "  87.75867767  87.80867805  87.85867844  87.90867883  87.95867921\n",
      "  88.0086796   88.05867998  88.10868037  88.15868076  88.20868114\n",
      "  94.15272704  94.20272743  94.25272781  94.3027282   94.35272859\n",
      "  94.40272897  94.45272936  94.50272975  94.55273013  94.60273052\n",
      "  99.73077012  99.7807705   99.83077089  99.88077127  99.93077166\n",
      "  99.98077205 100.03077243 100.08077282 100.1307732  100.18077359\n",
      " 104.49980694 104.54980733 104.59980771 104.6498081  104.69980849\n",
      " 104.74980887 104.79980926 104.84980964 104.89981003 104.94981042\n",
      " 109.82284805 109.87284843 109.92284882 109.9728492  110.02284959\n",
      " 110.07284998 110.12285036 110.17285075 110.22285114 110.27285152\n",
      " 114.74988609 114.79988648 114.84988686 114.89988725 114.94988764\n",
      " 114.99988802 115.04988841 115.0998888  115.14988918 115.19988957\n",
      " 119.70692437 119.75692476 119.80692514 119.85692553 119.90692592\n",
      " 119.9569263  120.00692669 120.05692707 120.10692746 120.15692785]\n"
     ]
    }
   ],
   "source": [
    "def laser_start_and_end(laser_series, laser_threshold = 4):\n",
    "    peaks = (laser_series > laser_threshold).reshape(1,-1)[0]\n",
    "    peaks = peaks * 1\n",
    "    shifted_right = np.roll(peaks, 1)\n",
    "    shifted_left = np.roll(peaks, -1)\n",
    "\n",
    "    laser_start = np.where(peaks - shifted_right > 0)[0]\n",
    "    laser_end = np.where(peaks - shifted_left > 0)[0]\n",
    "    return laser_start, laser_end\n",
    "laser_start, laser_end = laser_start_and_end(laser_series, laser_threshold = 4)\n",
    "print('laser starts = \\n\\n', time[laser_start],\n",
    "      '\\n\\n laser ends = \\n\\n', time[laser_end])"
   ]
  },
  {
   "cell_type": "markdown",
   "metadata": {},
   "source": [
    "# Plot one stimulation:"
   ]
  },
  {
   "cell_type": "code",
   "execution_count": 34,
   "metadata": {},
   "outputs": [
    {
     "data": {
      "image/png": "[encoded data removed]",
      "text/plain": [
       "<Figure size 720x288 with 1 Axes>"
      ]
     },
     "metadata": {
      "needs_background": "light"
     },
     "output_type": "display_data"
    }
   ],
   "source": [
    "fig, ax = plt.subplots(1, 1, figsize=(10, 4))\n",
    "miny = np.min(laser_series) ; maxy = np.max(laser_series)* 1.5\n",
    "ax.plot(time , laser_series, 'b') \n",
    "ax.set_xlabel('time (s)', fontsize=12)\n",
    "ax.set_ylabel('microvolts', fontsize=12)\n",
    "first_laser_duration = time[laser_end[0]] - time[laser_start[0]]\n",
    "ax.set_xlim(0, time[laser_end[0]] + first_laser_duration)\n",
    "ax.set_ylim(miny, maxy)\n",
    "plt.tight_layout()"
   ]
  },
  {
   "cell_type": "code",
   "execution_count": 27,
   "metadata": {},
   "outputs": [
    {
     "data": {
      "image/png": "[encoded data removed]",
      "text/plain": [
       "<Figure size 1080x576 with 1 Axes>"
      ]
     },
     "metadata": {
      "needs_background": "light"
     },
     "output_type": "display_data"
    }
   ],
   "source": [
    "fig, ax = plt.subplots(1, 1, figsize=(15, 8))\n",
    "miny = np.min(asig) ; maxy = np.max(asig)* 1.5\n",
    "ax.plot(time , asig, 'b') \n",
    "ax.set_xlabel('time (s)', fontsize=12)\n",
    "ax.set_ylabel('microvolts', fontsize=12)\n",
    "ax.set_xlim(0, secs)\n",
    "ax.set_ylim(miny, maxy)\n",
    "plt.tight_layout()\n",
    "\n",
    "for (start, end) in zip(laser_start,laser_end):\n",
    "    plt.axvspan(time[start], time[end],  facecolor='y', alpha=0.2)"
   ]
  },
  {
   "cell_type": "markdown",
   "metadata": {},
   "source": [
    "# (3) Save laser stampts skipping rows as before"
   ]
  },
  {
   "cell_type": "code",
   "execution_count": 36,
   "metadata": {},
   "outputs": [],
   "source": [
    "def save_laser_stamps_to_csv(filepath, laser_start, laser_end):\n",
    "    \n",
    "    metadatas=[[filepath],\n",
    "                [\"framerate : \"],\n",
    "                [\"csv_aligned :\", 'NO'],\n",
    "               [\"first_laser_time : \", 'None']\n",
    "               ]\n",
    "    df = pd.DataFrame(np.concatenate((laser_start.reshape(-1,1), laser_end.reshape(-1,1)),\n",
    "                                      axis = 1) , \n",
    "                      columns = ['ON', 'OFF'])\n",
    "    resultFilePath = filepath.replace(os.path.splitext(filename)[1], '.csv')\n",
    "    with open(resultFilePath, 'w') as resultfile:\n",
    "\n",
    "        csvResult=csv.writer(resultfile,delimiter=',', lineterminator='\\n')\n",
    "        csvResult.writerows(metadatas)\n",
    "\n",
    "    df.to_csv(resultFilePath, mode = 'a', index = False)\n",
    "save_laser_stamps_to_csv(filepath, laser_start, laser_end)"
   ]
  },
  {
   "cell_type": "code",
   "execution_count": null,
   "metadata": {},
   "outputs": [],
   "source": []
  }
 ],
 "metadata": {
  "kernelspec": {
   "display_name": "Python 2",
   "language": "python",
   "name": "python2"
  },
  "language_info": {
   "codemirror_mode": {
    "name": "ipython",
    "version": 3
   },
   "file_extension": ".py",
   "mimetype": "text/x-python",
   "name": "python",
   "nbconvert_exporter": "python",
   "pygments_lexer": "ipython3",
   "version": "3.8.11"
  }
 },
 "nbformat": 4,
 "nbformat_minor": 1
}
